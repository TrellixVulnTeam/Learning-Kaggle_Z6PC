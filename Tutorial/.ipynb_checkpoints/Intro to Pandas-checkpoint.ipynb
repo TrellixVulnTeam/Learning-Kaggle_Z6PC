{
 "cells": [
  {
   "cell_type": "markdown",
   "id": "17cfd92d",
   "metadata": {},
   "source": [
    "# Introduction to Pandas(again)"
   ]
  },
  {
   "cell_type": "markdown",
   "id": "8b25e88d",
   "metadata": {},
   "source": [
    "DataFrame - allows us to create an array of individual entries and values by rows and columns"
   ]
  },
  {
   "cell_type": "code",
   "execution_count": 8,
   "id": "ccdcff74",
   "metadata": {},
   "outputs": [
    {
     "data": {
      "text/html": [
       "<div>\n",
       "<style scoped>\n",
       "    .dataframe tbody tr th:only-of-type {\n",
       "        vertical-align: middle;\n",
       "    }\n",
       "\n",
       "    .dataframe tbody tr th {\n",
       "        vertical-align: top;\n",
       "    }\n",
       "\n",
       "    .dataframe thead th {\n",
       "        text-align: right;\n",
       "    }\n",
       "</style>\n",
       "<table border=\"1\" class=\"dataframe\">\n",
       "  <thead>\n",
       "    <tr style=\"text-align: right;\">\n",
       "      <th></th>\n",
       "      <th>YES</th>\n",
       "      <th>NO</th>\n",
       "    </tr>\n",
       "  </thead>\n",
       "  <tbody>\n",
       "    <tr>\n",
       "      <th>0</th>\n",
       "      <td>50</td>\n",
       "      <td>131</td>\n",
       "    </tr>\n",
       "    <tr>\n",
       "      <th>1</th>\n",
       "      <td>21</td>\n",
       "      <td>2</td>\n",
       "    </tr>\n",
       "  </tbody>\n",
       "</table>\n",
       "</div>"
      ],
      "text/plain": [
       "   YES   NO\n",
       "0   50  131\n",
       "1   21    2"
      ]
     },
     "execution_count": 8,
     "metadata": {},
     "output_type": "execute_result"
    }
   ],
   "source": [
    "import pandas as pd\n",
    "pd.DataFrame({'YES' : [50, 21], 'NO': [131,2]})"
   ]
  },
  {
   "cell_type": "code",
   "execution_count": 9,
   "id": "39bf1ef2",
   "metadata": {},
   "outputs": [
    {
     "data": {
      "text/html": [
       "<div>\n",
       "<style scoped>\n",
       "    .dataframe tbody tr th:only-of-type {\n",
       "        vertical-align: middle;\n",
       "    }\n",
       "\n",
       "    .dataframe tbody tr th {\n",
       "        vertical-align: top;\n",
       "    }\n",
       "\n",
       "    .dataframe thead th {\n",
       "        text-align: right;\n",
       "    }\n",
       "</style>\n",
       "<table border=\"1\" class=\"dataframe\">\n",
       "  <thead>\n",
       "    <tr style=\"text-align: right;\">\n",
       "      <th></th>\n",
       "      <th>BOB</th>\n",
       "      <th>ANGEL</th>\n",
       "    </tr>\n",
       "  </thead>\n",
       "  <tbody>\n",
       "    <tr>\n",
       "      <th>Product A</th>\n",
       "      <td>I liked it</td>\n",
       "      <td>It was fine</td>\n",
       "    </tr>\n",
       "    <tr>\n",
       "      <th>Product B</th>\n",
       "      <td>It was awful</td>\n",
       "      <td>Distasteful</td>\n",
       "    </tr>\n",
       "  </tbody>\n",
       "</table>\n",
       "</div>"
      ],
      "text/plain": [
       "                    BOB        ANGEL\n",
       "Product A    I liked it  It was fine\n",
       "Product B  It was awful  Distasteful"
      ]
     },
     "execution_count": 9,
     "metadata": {},
     "output_type": "execute_result"
    }
   ],
   "source": [
    "# A much more cleaner code\n",
    "# Index stands for the description of the 1st column\n",
    "pd.DataFrame({'BOB' : ['I liked it', 'It was awful'],\n",
    "             'ANGEL' : ['It was fine', 'Distasteful']}, index = ['Product A', 'Product B'])"
   ]
  },
  {
   "cell_type": "raw",
   "id": "21126bbd",
   "metadata": {},
   "source": [
    "Series is "
   ]
  },
  {
   "cell_type": "code",
   "execution_count": null,
   "id": "eaf310ca",
   "metadata": {},
   "outputs": [],
   "source": []
  }
 ],
 "metadata": {
  "kernelspec": {
   "display_name": "Python 3 (ipykernel)",
   "language": "python",
   "name": "python3"
  },
  "language_info": {
   "codemirror_mode": {
    "name": "ipython",
    "version": 3
   },
   "file_extension": ".py",
   "mimetype": "text/x-python",
   "name": "python",
   "nbconvert_exporter": "python",
   "pygments_lexer": "ipython3",
   "version": "3.10.6"
  },
  "name": "Test2.ipynb"
 },
 "nbformat": 4,
 "nbformat_minor": 5
}
